{
  "nbformat": 4,
  "nbformat_minor": 0,
  "metadata": {
    "colab": {
      "name": "reporte_tutorial_2.ipynb",
      "provenance": [],
      "collapsed_sections": []
    },
    "kernelspec": {
      "name": "python3",
      "display_name": "Python 3"
    },
    "language_info": {
      "name": "python"
    }
  },
  "cells": [
    {
      "cell_type": "code",
      "execution_count": 1,
      "metadata": {
        "id": "gfITb6Xgm1MJ",
        "colab": {
          "base_uri": "https://localhost:8080/"
        },
        "outputId": "1deea06b-cf89-488e-a7e0-6323e5585e6a"
      },
      "outputs": [
        {
          "output_type": "stream",
          "name": "stdout",
          "text": [
            "(1000, 20) (1000,)\n"
          ]
        }
      ],
      "source": [
        "from sklearn.datasets import make_classification\n",
        "X, y = make_classification(n_samples = 1000, n_features = 20, n_informative = 15, n_redundant = 5, random_state = 4)\n",
        "print(X.shape, y.shape)"
      ]
    },
    {
      "cell_type": "code",
      "source": [
        "from numpy import mean\n",
        "from numpy import std\n",
        "from sklearn.datasets import make_classification\n",
        "from sklearn.model_selection import cross_val_score\n",
        "from sklearn.model_selection import RepeatedStratifiedKFold\n",
        "from sklearn.ensemble import ExtraTreesClassifier\n",
        "\n",
        "X, y = make_classification(n_samples = 1000, n_features = 20, n_informative = 15, n_redundant = 5, random_state = 4)\n",
        "model = ExtraTreesClassifier()\n",
        "cv = RepeatedStratifiedKFold(n_splits = 10, n_repeats = 3, random_state = 1)\n",
        "n_scores = cross_val_score(model, X, y, scoring = 'accuracy', cv = cv, n_jobs = -1, error_score = 'raise')\n",
        "print('Accuracy: %.3f (%.3f)' % (mean(n_scores), std(n_scores)))"
      ],
      "metadata": {
        "colab": {
          "base_uri": "https://localhost:8080/"
        },
        "id": "BpFfpWUw36mx",
        "outputId": "285d4077-6b66-49b0-ea0b-cb34a42c1fe9"
      },
      "execution_count": 2,
      "outputs": [
        {
          "output_type": "stream",
          "name": "stdout",
          "text": [
            "Accuracy: 0.909 (0.030)\n"
          ]
        }
      ]
    },
    {
      "cell_type": "code",
      "source": [
        "X, y = make_classification(n_samples = 1000, n_features = 20, n_informative = 15, n_redundant = 5, random_state = 4)\n",
        "model = ExtraTreesClassifier()\n",
        "model.fit(X, y)\n",
        "row = [[-3.52169364,4.00560592,2.94756812,-0.09755101,-0.98835896,1.81021933,-0.32657994,1.08451928,4.98150546,-2.53855736,3.43500614,1.64660497,-4.1557091,-1.55301045,-0.30690987,-1.47665577,6.818756,0.5132918,4.3598337,-4.31785495]]\n",
        "yhat = model.predict(row)\n",
        "print('Predicted Class: %d' % yhat[0])"
      ],
      "metadata": {
        "colab": {
          "base_uri": "https://localhost:8080/"
        },
        "id": "8K3HdwlA4Wul",
        "outputId": "66d218cb-0100-4105-b168-7ce656f74b32"
      },
      "execution_count": 3,
      "outputs": [
        {
          "output_type": "stream",
          "name": "stdout",
          "text": [
            "Predicted Class: 0\n"
          ]
        }
      ]
    },
    {
      "cell_type": "code",
      "source": [
        "from sklearn.datasets import make_regression\n",
        "X, y = make_regression(n_samples = 1000, n_features = 20, n_informative = 15, noise = 0.1, random_state = 3)\n",
        "print(X.shape, y.shape)"
      ],
      "metadata": {
        "colab": {
          "base_uri": "https://localhost:8080/"
        },
        "id": "svZQBHJh4gN_",
        "outputId": "8c90e626-6dcd-4f68-fc77-ccf1eab5ca67"
      },
      "execution_count": 5,
      "outputs": [
        {
          "output_type": "stream",
          "name": "stdout",
          "text": [
            "(1000, 20) (1000,)\n"
          ]
        }
      ]
    },
    {
      "cell_type": "code",
      "source": [
        "from numpy import mean\n",
        "from numpy import std\n",
        "from sklearn.datasets import make_regression\n",
        "from sklearn.model_selection import cross_val_score\n",
        "from sklearn.model_selection import RepeatedKFold\n",
        "from sklearn.ensemble import ExtraTreesRegressor\n",
        "\n",
        "X, y = make_regression(n_samples = 1000, n_features = 20, n_informative = 15, noise = 0.1, random_state = 3)\n",
        "model = ExtraTreesRegressor()\n",
        "cv = RepeatedKFold(n_splits = 10, n_repeats = 3, random_state = 1)\n",
        "n_scores = cross_val_score(model, X, y, scoring = 'neg_mean_absolute_error', cv = cv, n_jobs = -1, error_score = 'raise')\n",
        "print('MAE: %.3f (%.3f)' % (mean(n_scores), std(n_scores)))"
      ],
      "metadata": {
        "colab": {
          "base_uri": "https://localhost:8080/"
        },
        "id": "rfaqIv8b4y0q",
        "outputId": "490d2e7a-df33-49b7-c64a-13b139f2a91b"
      },
      "execution_count": 12,
      "outputs": [
        {
          "output_type": "stream",
          "name": "stdout",
          "text": [
            "MAE: -69.517 (4.892)\n"
          ]
        }
      ]
    },
    {
      "cell_type": "code",
      "source": [
        "X, y = make_regression(n_samples = 1000, n_features = 20, n_informative = 15, noise = 0.1, random_state = 3)\n",
        "model = ExtraTreesRegressor()\n",
        "model.fit(X, y)\n",
        "row = [[-0.56996683,0.80144889,2.77523539,1.32554027,-1.44494378,-0.80834175,-0.84142896,0.57710245,0.96235932,-0.66303907,-1.13994112,0.49887995,1.40752035,-0.2995842,-0.05708706,-2.08701456,1.17768469,0.13474234,0.09518152,-0.07603207]]\n",
        "yhat = model.predict(row)\n",
        "print('Prediction: %d' % yhat[0])"
      ],
      "metadata": {
        "colab": {
          "base_uri": "https://localhost:8080/"
        },
        "id": "dQleyPZt5hIH",
        "outputId": "da9598d3-08d0-4daa-bdc9-5c1c83c3d94d"
      },
      "execution_count": 13,
      "outputs": [
        {
          "output_type": "stream",
          "name": "stdout",
          "text": [
            "Prediction: 53\n"
          ]
        }
      ]
    },
    {
      "cell_type": "code",
      "source": [
        "from numpy import mean\n",
        "from numpy import std\n",
        "from sklearn.datasets import make_classification\n",
        "from sklearn.model_selection import cross_val_score\n",
        "from sklearn.model_selection import RepeatedStratifiedKFold\n",
        "from sklearn.ensemble import ExtraTreesClassifier\n",
        "from matplotlib import pyplot\n",
        "\n",
        "def get_dataset():\n",
        "  X, y = make_classification(n_samples = 1000, n_features = 20, n_informative = 15, n_redundant = 5, random_state = 4)\n",
        "  return X, y \n",
        "\n",
        "def get_models():\n",
        "  models = dict()\n",
        "  n_trees = [10, 50, 100, 500, 1000] # la memoria no dio para correrlo con 5000 árboles \n",
        "  for n in n_trees:\n",
        "    models[str(n)] = ExtraTreesClassifier(n_estimators = n)\n",
        "  return models\n",
        "\n",
        "def evaluate_model(model, X, y):\n",
        "\tcv = RepeatedStratifiedKFold(n_splits = 10, n_repeats = 3, random_state = 1)\n",
        "\tscores = cross_val_score(model, X, y, scoring = 'accuracy', cv = cv, n_jobs = -1)\n",
        "\treturn scores\n",
        "\n",
        "X, y = get_dataset()\n",
        "models = get_models()\n",
        "results, names = list(), list()\n",
        "\n",
        "for name, model in models.items():\n",
        "  scores = evaluate_model(model, X, y)\n",
        "  results.append(scores)\n",
        "  names.append(name)\n",
        "  print('>%s %.3f (%.3f)' % (name, mean(scores), std(scores)))\n",
        "\n",
        "\n",
        "pyplot.boxplot(results, labels=names, showmeans=True)\n",
        "pyplot.show()"
      ],
      "metadata": {
        "colab": {
          "base_uri": "https://localhost:8080/",
          "height": 357
        },
        "id": "_gsh-guo6ict",
        "outputId": "1b15b06e-e367-4d68-b66c-8847eda568b5"
      },
      "execution_count": 15,
      "outputs": [
        {
          "output_type": "stream",
          "name": "stdout",
          "text": [
            ">10 0.856 (0.036)\n",
            ">50 0.897 (0.031)\n",
            ">100 0.909 (0.028)\n",
            ">500 0.913 (0.026)\n",
            ">1000 0.913 (0.026)\n"
          ]
        },
        {
          "output_type": "display_data",
          "data": {
            "text/plain": [
              "<Figure size 432x288 with 1 Axes>"
            ],
            "image/png": "[encoded data removed]"
          },
          "metadata": {
            "needs_background": "light"
          }
        }
      ]
    },
    {
      "cell_type": "code",
      "source": [
        "def get_models_2():\n",
        "  models = dict()\n",
        "  for i in range(1, 21):\n",
        "    models[str(i)] = ExtraTreesClassifier(max_features = i)\n",
        "  return models\n",
        "\n",
        "X, y = get_dataset()\n",
        "models = get_models_2()\n",
        "results, names = list(), list()\n",
        "\n",
        "for name, model in models.items():\n",
        "  scores = evaluate_model(model, X, y)\n",
        "  results.append(scores)\n",
        "  names.append(name)\n",
        "  print('>%s %.3f (%.3f)' % (name, mean(scores), std(scores)))\n",
        "\n",
        "\n",
        "pyplot.boxplot(results, labels=names, showmeans=True)\n",
        "pyplot.show()"
      ],
      "metadata": {
        "colab": {
          "base_uri": "https://localhost:8080/",
          "height": 634
        },
        "id": "uOAWaVpf77Lr",
        "outputId": "b1e288f6-7e93-441b-cbfa-bdc7a34c41e0"
      },
      "execution_count": 17,
      "outputs": [
        {
          "output_type": "stream",
          "name": "stdout",
          "text": [
            ">1 0.896 (0.029)\n",
            ">2 0.903 (0.029)\n",
            ">3 0.907 (0.023)\n",
            ">4 0.907 (0.028)\n",
            ">5 0.910 (0.027)\n",
            ">6 0.913 (0.020)\n",
            ">7 0.906 (0.022)\n",
            ">8 0.901 (0.029)\n",
            ">9 0.910 (0.025)\n",
            ">10 0.915 (0.025)\n",
            ">11 0.907 (0.028)\n",
            ">12 0.907 (0.025)\n",
            ">13 0.908 (0.023)\n",
            ">14 0.910 (0.024)\n",
            ">15 0.906 (0.026)\n",
            ">16 0.907 (0.023)\n",
            ">17 0.907 (0.024)\n",
            ">18 0.907 (0.025)\n",
            ">19 0.909 (0.028)\n",
            ">20 0.906 (0.034)\n"
          ]
        },
        {
          "output_type": "display_data",
          "data": {
            "text/plain": [
              "<Figure size 432x288 with 1 Axes>"
            ],
            "image/png": "[encoded data removed]"
          },
          "metadata": {
            "needs_background": "light"
          }
        }
      ]
    },
    {
      "cell_type": "code",
      "source": [
        "def get_models_3():\n",
        "  models = dict()\n",
        "  for i in range(2, 15):\n",
        "    models[str(i)] = ExtraTreesClassifier(min_samples_split = i)\n",
        "  return models\n",
        "\n",
        "X, y = get_dataset()\n",
        "models = get_models_3()\n",
        "results, names = list(), list()\n",
        "\n",
        "for name, model in models.items():\n",
        "  scores = evaluate_model(model, X, y)\n",
        "  results.append(scores)\n",
        "  names.append(name)\n",
        "  print('>%s %.3f (%.3f)' % (name, mean(scores), std(scores)))\n",
        "\n",
        "\n",
        "pyplot.boxplot(results, labels=names, showmeans=True)\n",
        "pyplot.show()"
      ],
      "metadata": {
        "colab": {
          "base_uri": "https://localhost:8080/",
          "height": 505
        },
        "id": "toEdKvYI87pT",
        "outputId": "47fc7662-e249-4b52-b9ba-cc190346507e"
      },
      "execution_count": 18,
      "outputs": [
        {
          "output_type": "stream",
          "name": "stdout",
          "text": [
            ">2 0.915 (0.024)\n",
            ">3 0.908 (0.026)\n",
            ">4 0.909 (0.025)\n",
            ">5 0.902 (0.025)\n",
            ">6 0.900 (0.027)\n",
            ">7 0.905 (0.028)\n",
            ">8 0.897 (0.025)\n",
            ">9 0.901 (0.027)\n",
            ">10 0.898 (0.025)\n",
            ">11 0.891 (0.025)\n",
            ">12 0.895 (0.025)\n",
            ">13 0.893 (0.029)\n",
            ">14 0.891 (0.024)\n"
          ]
        },
        {
          "output_type": "display_data",
          "data": {
            "text/plain": [
              "<Figure size 432x288 with 1 Axes>"
            ],
            "image/png": "[encoded data removed]"
          },
          "metadata": {
            "needs_background": "light"
          }
        }
      ]
    },
    {
      "cell_type": "markdown",
      "source": [
        "# Comentarios del ejercicio\n",
        "#### How to Develop an Extra Trees Ensemble with Python"
      ],
      "metadata": {
        "id": "eZ6NCIld9jv7"
      }
    },
    {
      "cell_type": "markdown",
      "source": [
        "El algoritmo de *Extra-Trees* es una alternativa al *Random Forest* en tanto utiliza una gran cantidad de árboles sin podar. Ambos algoritmos pueden llegar a tener un número alto de árboles de decisión, sin embargo, *Extra-Trees* utiliza todo el set de datos y no un subconjunto, además, elige *features* distintos antes de crear un nodo de decisión dentro de un árbol en lugar de escoger uno óptimo por medio de un algoritmo como lo hace *Random Forest*. Se puede utilizar igualmente para problemas de regresión y clasificación, y el resultado que arroja es un promedio o una mayoría según los resultados de todos los árboles. Existen tres hiperparámetros que se pueden ajustar con el algortimo *Extra-Trees* y son: el número de árboles de decisión, el número de inputs (*features*) para crear cada *split* o nodo de decisión y el número mínimo de *samples* que se necesitan en un nodo para crear un nodo de decisión."
      ],
      "metadata": {
        "id": "-P92p9Nq9vXR"
      }
    },
    {
      "cell_type": "markdown",
      "source": [
        "# Comentarios sobre parámetros"
      ],
      "metadata": {
        "id": "Evz6zTKV_-Ql"
      }
    },
    {
      "cell_type": "markdown",
      "source": [
        "El hiperparámetro del número de árboles puede consumir demasiados recursos si la cantidad es bastante elevada, sin embargo, no hace falta tener una cantidad muy alta para obtener buenos resultados (>90%). Según el tutorial, el hiperparámetro que se refiere al número de *features* para crear cada *split* es el más importante, sin embargo números bajos sugieren un rendimiento decente, esto como parte de las heurísticas que existen para este algoritmo y que lo diferencian del *Random Forest*. Lo mismo sucede para el último hiperparámetro, el cual sugiere que valores bajos pueden arrojar buenos resultados y que, incluso, un número alto puede empezar a empeorar los resultados de forma significativa."
      ],
      "metadata": {
        "id": "NrZLoEr4ABzl"
      }
    }
  ]
}