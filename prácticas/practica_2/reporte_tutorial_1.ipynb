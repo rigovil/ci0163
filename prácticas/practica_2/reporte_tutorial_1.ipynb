{
  "nbformat": 4,
  "nbformat_minor": 0,
  "metadata": {
    "colab": {
      "name": "reporte_tutorial_1.ipynb",
      "provenance": []
    },
    "kernelspec": {
      "name": "python3",
      "display_name": "Python 3"
    },
    "language_info": {
      "name": "python"
    }
  },
  "cells": [
    {
      "cell_type": "markdown",
      "source": [
        "**COMENTARIOS DEL EJERCICIO**"
      ],
      "metadata": {
        "id": "Lf79a4roubjJ"
      }
    },
    {
      "cell_type": "markdown",
      "source": [
        "Gracias al curso de Diseño de Experimentos, pude tratar con la etapa de un proyecto que involucra la parte del preparamiento de los datos para un modelo de predicción basado en aprendizaje automático, pero no conocía que podía resumirse a cinco distintas técnicas dependiendo del objetivo del tratamiento de los datos, algo que en su momento nos dio problemas porque no sabíamos bien qué datos normalizar o cómo hacer un feature selection de forma adecuada. Me gustaría conocer mejor si existe forma de saber o clasificar datasets de manera que se puedan descartar algunas técnicas debido a la naturaleza de los datos, lo cual ayudaría a agilizar el preprocesamiento. En un futuro esperaría poder aplicar correctamente la técnica adecuada para que el rendimiento de un posible modelo predictivo tenga mejores resultados a partir de considerar el preprocesamiento de datos como un hiperparámetro."
      ],
      "metadata": {
        "id": "Nl8ekJxdumYS"
      }
    }
  ]
}