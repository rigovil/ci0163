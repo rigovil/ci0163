{
  "nbformat": 4,
  "nbformat_minor": 0,
  "metadata": {
    "colab": {
      "name": "reporte_tutorial_3.ipynb",
      "provenance": []
    },
    "kernelspec": {
      "name": "python3",
      "display_name": "Python 3"
    },
    "language_info": {
      "name": "python"
    }
  },
  "cells": [
    {
      "cell_type": "code",
      "source": [
        "# generate gaussian data\n",
        "from numpy.random import seed\n",
        "from numpy.random import randn\n",
        "from numpy import mean\n",
        "from numpy import std\n",
        "# seed the random number generator\n",
        "seed(1)\n",
        "# generate univariate observations\n",
        "data = 5 * randn(10000) + 50\n",
        "# summarize\n",
        "print('mean=%.3f stdv=%.3f' % (mean(data), std(data)))"
      ],
      "metadata": {
        "id": "KotJPuJ8B9lC"
      },
      "execution_count": null,
      "outputs": []
    },
    {
      "cell_type": "code",
      "source": [
        "# identify outliers with standard deviation\n",
        "from numpy.random import seed\n",
        "from numpy.random import randn\n",
        "from numpy import mean\n",
        "from numpy import std\n",
        "# seed the random number generator\n",
        "seed(1)\n",
        "# generate univariate observations\n",
        "data = 5 * randn(10000) + 50\n",
        "# calculate summary statistics\n",
        "data_mean, data_std = mean(data), std(data)\n",
        "# identify outliers\n",
        "cut_off = data_std * 3\n",
        "lower, upper = data_mean - cut_off, data_mean + cut_off\n",
        "# identify outliers\n",
        "outliers = [x for x in data if x < lower or x > upper]\n",
        "print('Identified outliers: %d' % len(outliers))\n",
        "# remove outliers\n",
        "outliers_removed = [x for x in data if x >= lower and x <= upper]\n",
        "print('Non-outlier observations: %d' % len(outliers_removed))"
      ],
      "metadata": {
        "id": "Vb33L9OLCcRC"
      },
      "execution_count": null,
      "outputs": []
    },
    {
      "cell_type": "code",
      "source": [
        "# identify outliers with interquartile range\n",
        "from numpy.random import seed\n",
        "from numpy.random import randn\n",
        "from numpy import percentile\n",
        "# seed the random number generator\n",
        "seed(1)\n",
        "# generate univariate observations\n",
        "data = 5 * randn(10000) + 50\n",
        "# calculate interquartile range\n",
        "q25, q75 = percentile(data, 25), percentile(data, 75)\n",
        "iqr = q75 - q25\n",
        "print('Percentiles: 25th=%.3f, 75th=%.3f, IQR=%.3f' % (q25, q75, iqr))\n",
        "# calculate the outlier cutoff\n",
        "cut_off = iqr * 1.5\n",
        "lower, upper = q25 - cut_off, q75 + cut_off\n",
        "# identify outliers\n",
        "outliers = [x for x in data if x < lower or x > upper]\n",
        "print('Identified outliers: %d' % len(outliers))\n",
        "# remove outliers\n",
        "outliers_removed = [x for x in data if x >= lower and x <= upper]\n",
        "print('Non-outlier observations: %d' % len(outliers_removed))"
      ],
      "metadata": {
        "id": "BZUoVFndC3tF"
      },
      "execution_count": null,
      "outputs": []
    },
    {
      "cell_type": "code",
      "source": [
        "# evaluate model on the raw dataset\n",
        "from pandas import read_csv\n",
        "from sklearn.model_selection import train_test_split\n",
        "from sklearn.linear_model import LinearRegression\n",
        "from sklearn.metrics import mean_absolute_error\n",
        "# load the dataset\n",
        "url = 'https://raw.githubusercontent.com/jbrownlee/Datasets/master/housing.csv'\n",
        "df = read_csv(url, header=None)\n",
        "# retrieve the array\n",
        "data = df.values\n",
        "# split into inpiut and output elements\n",
        "X, y = data[:, :-1], data[:, -1]\n",
        "# split into train and test sets\n",
        "X_train, X_test, y_train, y_test = train_test_split(X, y, test_size=0.33, random_state=1)\n",
        "# fit the model\n",
        "model = LinearRegression()\n",
        "model.fit(X_train, y_train)\n",
        "# evaluate the model\n",
        "yhat = model.predict(X_test)\n",
        "# evaluate predictions\n",
        "mae = mean_absolute_error(y_test, yhat)\n",
        "print('MAE: %.3f' % mae)"
      ],
      "metadata": {
        "id": "u4GRSNN2DHtz"
      },
      "execution_count": null,
      "outputs": []
    },
    {
      "cell_type": "code",
      "source": [
        "# evaluate model on training dataset with outliers removed\n",
        "from pandas import read_csv\n",
        "from sklearn.model_selection import train_test_split\n",
        "from sklearn.linear_model import LinearRegression\n",
        "from sklearn.neighbors import LocalOutlierFactor\n",
        "from sklearn.metrics import mean_absolute_error\n",
        "# load the dataset\n",
        "url = 'https://raw.githubusercontent.com/jbrownlee/Datasets/master/housing.csv'\n",
        "df = read_csv(url, header=None)\n",
        "# retrieve the array\n",
        "data = df.values\n",
        "# split into inpiut and output elements\n",
        "X, y = data[:, :-1], data[:, -1]\n",
        "# split into train and test sets\n",
        "X_train, X_test, y_train, y_test = train_test_split(X, y, test_size=0.33, random_state=1)\n",
        "# summarize the shape of the training dataset\n",
        "print(X_train.shape, y_train.shape)\n",
        "# identify outliers in the training dataset\n",
        "lof = LocalOutlierFactor()\n",
        "yhat = lof.fit_predict(X_train)\n",
        "# select all rows that are not outliers\n",
        "mask = yhat != -1\n",
        "X_train, y_train = X_train[mask, :], y_train[mask]\n",
        "# summarize the shape of the updated training dataset\n",
        "print(X_train.shape, y_train.shape)\n",
        "# fit the model\n",
        "model = LinearRegression()\n",
        "model.fit(X_train, y_train)\n",
        "# evaluate the model\n",
        "yhat = model.predict(X_test)\n",
        "# evaluate predictions\n",
        "mae = mean_absolute_error(y_test, yhat)\n",
        "print('MAE: %.3f' % mae)"
      ],
      "metadata": {
        "id": "u85gJJJoDRx3"
      },
      "execution_count": null,
      "outputs": []
    },
    {
      "cell_type": "markdown",
      "source": [
        "**COMENTARIOS DEL EJERCICIO**"
      ],
      "metadata": {
        "id": "aJCcu_bFDTwt"
      }
    },
    {
      "cell_type": "markdown",
      "source": [
        "Ya conocía el concepto de outlier pero, en cursos anteriores, no había aprendido a cómo tratarlos o a tratar de indagar si realmente son datos que se salen de la tendencia a partir de la naturaleza del dataset. Aprendí de las técnicas habituales para detectar outliers con base en la distribución de los datos (gaussiana, etc.). Quisiera saber si todo conjunto de datos, sin importar su naturaleza, están expuestos a tener outliers. Como profesional, esperaría identificar y saber cómo tratar a los outliers de acuerdo con el set de datos."
      ],
      "metadata": {
        "id": "AcvuwkhkDWqF"
      }
    }
  ]
}