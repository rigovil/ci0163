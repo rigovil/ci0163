{
  "cells": [
    {
      "cell_type": "markdown",
      "metadata": {
        "id": "yC96cebCn12b"
      },
      "source": [
        "### **Análisis Explotatorio de Datos (EDA)**"
      ]
    },
    {
      "cell_type": "code",
      "execution_count": null,
      "metadata": {
        "colab": {
          "base_uri": "https://localhost:8080/",
          "height": 362
        },
        "id": "EaLaAO6hqD3y",
        "outputId": "205f8823-5f48-4340-8011-05d028a1baf3"
      },
      "outputs": [],
      "source": [
        "import pandas as pd\n",
        "import matplotlib.pyplot as plt\n",
        "\n",
        "plt.style.use('ggplot')\n",
        "data = pd.read_csv(\"dataset.csv\")"
      ]
    },
    {
      "cell_type": "markdown",
      "metadata": {},
      "source": [
        "Se visualizan los primeros datos para garantizar que se haya leído correctamente el archivo .csv."
      ]
    },
    {
      "cell_type": "code",
      "execution_count": null,
      "metadata": {},
      "outputs": [],
      "source": [
        "data.head()"
      ]
    },
    {
      "cell_type": "markdown",
      "metadata": {},
      "source": [
        "**Técnicas y Gráficos del EDA** "
      ]
    },
    {
      "cell_type": "markdown",
      "metadata": {},
      "source": [
        "Información estadística de las variables numéricas del dataset."
      ]
    },
    {
      "cell_type": "code",
      "execution_count": null,
      "metadata": {},
      "outputs": [],
      "source": [
        "data.describe()"
      ]
    },
    {
      "cell_type": "markdown",
      "metadata": {},
      "source": [
        "De la información anterior, son útiles para este caso las variables *rating* y *votes*, se puede ver como ninguna serie o película logra tener una votación perfecta (10), y que el promedio es relativamente bajo considerando que la mayoría son series o películas medianamente exitosas o conocidas. Para el caso de los votos (del público), se resalta la enorme diferencia que puede haber entre los extremos, con películas con menos de 10 votos y algunas con más de 10000. Por último, aunque la variable *year* sea una fecha, se puede observar como el dataset comprende registros desde 1932 hasta 2021. "
      ]
    },
    {
      "cell_type": "code",
      "execution_count": null,
      "metadata": {},
      "outputs": [],
      "source": [
        "data.plot(x='RATING', y='VOTES', kind='scatter', color='blue', alpha=1)"
      ]
    },
    {
      "cell_type": "code",
      "execution_count": null,
      "metadata": {},
      "outputs": [],
      "source": [
        "data.plot(x='YEAR', y='RATING', kind='scatter', color='black', alpha=1)"
      ]
    },
    {
      "cell_type": "markdown",
      "metadata": {},
      "source": [
        "Tal y como se muestra en los gráficos anteriores, parece que existe una correlación entre que una película sea muy votada y que esta tenga buen rating, es probable que los votantes estén más motivados a votar por una película o serie que les haya gustado, pero este es una inferencia que no se puede hacer solamente con observar una gráfico. El segundo gráfico muestra que parece que no existe una correlación entre el año de estreno de una serie o película y que esta tuviera una buena o mala calificación, se observa que existen muchos más filmes a partir de los años 2000."
      ]
    },
    {
      "cell_type": "code",
      "execution_count": null,
      "metadata": {},
      "outputs": [],
      "source": [
        "data.boxplot('YEAR', by = 'RATING')"
      ]
    },
    {
      "cell_type": "markdown",
      "metadata": {},
      "source": [
        "Con ayuda de esta segunda gráfica podemos afirmar con mayor certeza que el año de estreno no tiene relación entre un buen rating o un mal rating."
      ]
    },
    {
      "cell_type": "code",
      "execution_count": null,
      "metadata": {},
      "outputs": [],
      "source": [
        "data['YEAR'].hist(color='red', figsize=(6,4))"
      ]
    },
    {
      "cell_type": "markdown",
      "metadata": {},
      "source": [
        "Con este último gráfico se confirma que la mayor cantidad de películas y series se estrenaron a partir del año 2000, es posible que se puedan obviar las demás películas dependiendo del análisis que se quiera realizar."
      ]
    },
    {
      "cell_type": "code",
      "execution_count": null,
      "metadata": {},
      "outputs": [],
      "source": [
        "data['RATING'].plot(kind='kde', color='blue')"
      ]
    },
    {
      "cell_type": "markdown",
      "metadata": {},
      "source": [
        "La gran mayoría de películas concentran sus calificaciones alrededor de una puntuación de 5.0 y 7.5."
      ]
    },
    {
      "cell_type": "markdown",
      "metadata": {},
      "source": [
        "**Atributos innecesarios**"
      ]
    },
    {
      "cell_type": "markdown",
      "metadata": {},
      "source": [
        "Dentro del dataset, existen los atributos para indicar el género del filme y otro para una pequeña descripción. Estos datos no aportan nada interesante al análisis pues es texto plano (en el caso del resumen). El problema para el atributo del género es que no está dividido, sino separados en la misma celda mediante una coma, lo que resulta imposible si se quisiera realizar un análisis en relación con el género, habría que buscar otra forma de representarlos desde la limpieza y el preprocesamiento de los datos."
      ]
    }
  ],
  "metadata": {
    "colab": {
      "name": "EDA_tarea_1.ipynb",
      "provenance": []
    },
    "kernelspec": {
      "display_name": "Python 3",
      "name": "python3"
    },
    "language_info": {
      "codemirror_mode": {
        "name": "ipython",
        "version": 3
      },
      "file_extension": ".py",
      "mimetype": "text/x-python",
      "name": "python",
      "nbconvert_exporter": "python",
      "pygments_lexer": "ipython3",
      "version": "3.9.6"
    }
  },
  "nbformat": 4,
  "nbformat_minor": 0
}
