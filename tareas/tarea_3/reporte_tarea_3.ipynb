{
  "cells": [
    {
      "cell_type": "markdown",
      "source": [
        "# Tarea 3 - Rodrigo Vílchez B78292"
      ],
      "metadata": {
        "id": "HqgRJ8ZPwsMA"
      }
    },
    {
      "cell_type": "markdown",
      "metadata": {
        "id": "1LB6FXvlWHSE"
      },
      "source": [
        "### Descripción\n",
        "El presente dataset, obtenido de *Kaggle*, posee datos de observaciones del espacio visible realizadas por SDSS. Cada observación se trata de galaxias, estrellas o cuásares (la cual será la variable de respuesta), y están originalmente descritas por 17 distintas variables que se refieren a métricas obtenidas al momento de realizar la observación en cuanto a filtros, ángulos, etc. El dataset lo contemplan alrededor de 100.000 observaciones. \n",
        "El dataset cambió en comparación con la tarea anterior pues su manejo era muy complicado ya desde la tarea pasada, por lo que todo el análisis se hizo desde cero. (se habló con el asistente)"
      ]
    },
    {
      "cell_type": "markdown",
      "metadata": {
        "id": "nWQpVjSoX5Ga"
      },
      "source": [
        "### Preprocesamiento y Limpieza de Datos\n",
        "El primer paso fue transformar en números todas las variables categóricas, en este caso, el dataset solo contiene una columna de este tipo y es la que clasifica a la observación como galaxia (se transformó a 1) y cuásar (convertido en 0). Se verificó si habían datos con variables en blanco y se eliminó aquellas columnas que le otorgaban un identificador único a la observación, ya que no son útiles para entrenar un modelo y ayudarlo a clasificar una observación."
      ]
    },
    {
      "cell_type": "markdown",
      "metadata": {
        "id": "12LwVkkUFj3e"
      },
      "source": [
        "### Análisis Exploratorio de Datos\n",
        "Cargar los datos utilizando la librería *pandas* y visualizar los datos con ayuda de *ggplot*."
      ]
    },
    {
      "cell_type": "code",
      "execution_count": 50,
      "metadata": {
        "id": "A6Vk4KcKrCee"
      },
      "outputs": [],
      "source": [
        "import pandas as pd\n",
        "import matplotlib.pyplot as plt\n",
        "from matplotlib import pyplot\n",
        "# plt.style.use('ggplot')\n",
        "\n",
        "dataset = 'https://raw.githubusercontent.com/rigovil/ci0163/main/tareas/tarea_3/dataset_binario.csv'\n",
        "observaciones = pd.read_csv(dataset, sep=',')"
      ]
    },
    {
      "cell_type": "markdown",
      "metadata": {
        "id": "B1X2CzpgFj3i"
      },
      "source": [
        "Descripción general estadísticas de las variables presentes en el dataset y primeras tres observaciones."
      ]
    },
    {
      "cell_type": "code",
      "execution_count": 51,
      "metadata": {
        "colab": {
          "base_uri": "https://localhost:8080/",
          "height": 300
        },
        "id": "G3VhrkM1Fj3j",
        "outputId": "5ede7f87-a65b-44f3-ee50-2fae2493c07a"
      },
      "outputs": [
        {
          "output_type": "execute_result",
          "data": {
            "text/plain": [
              "              alpha         delta             u             g             r  \\\n",
              "count  78406.000000  78406.000000  78406.000000  78406.000000  78406.000000   \n",
              "mean     178.564041     24.310674     22.335933     20.910960     19.838219   \n",
              "std       95.531566     19.432780      2.150972      1.922379      1.773199   \n",
              "min        0.005528    -15.980904     10.996230     12.679020     11.746640   \n",
              "25%      130.966063      5.588466     20.712290     19.594155     18.609452   \n",
              "50%      181.928863     23.733977     22.407380     21.383080     20.311500   \n",
              "75%      232.169937     39.895229     23.836350     22.261197     21.137583   \n",
              "max      359.999615     82.288657     32.781390     31.602240     29.571860   \n",
              "\n",
              "                  i             z        run_ID  rerun_ID       cam_col  \\\n",
              "count  78406.000000  78406.000000  78406.000000   78406.0  78406.000000   \n",
              "mean      19.233885     18.888702   4530.474670     301.0      3.493801   \n",
              "std        1.704196      1.724996   1970.721529       0.0      1.574923   \n",
              "min       11.299560     10.897380    109.000000     301.0      1.000000   \n",
              "25%       18.089780     17.742095   3225.000000     301.0      2.000000   \n",
              "50%       19.532460     19.112775   4192.000000     301.0      4.000000   \n",
              "75%       20.479067     19.956543   5323.000000     301.0      5.000000   \n",
              "max       32.141470     29.383740   8162.000000     301.0      6.000000   \n",
              "\n",
              "           field_ID   spec_obj_ID      redshift         plate           MJD  \\\n",
              "count  78406.000000  7.840600e+04  78406.000000  78406.000000  78406.000000   \n",
              "mean     187.837245  6.047177e+18      0.735512   5370.859552  55714.648318   \n",
              "std      149.079073  3.352836e+18      0.751086   2977.902009   1828.217999   \n",
              "min       11.000000  2.995191e+17     -0.009971    266.000000  51608.000000   \n",
              "25%       83.000000  3.096253e+18      0.256198   2750.000000  54533.000000   \n",
              "50%      148.000000  5.965182e+18      0.532256   5298.000000  56013.000000   \n",
              "75%      245.000000  8.559307e+18      0.835665   7602.000000  56984.000000   \n",
              "max      937.000000  1.412694e+19      7.011245  12547.000000  58932.000000   \n",
              "\n",
              "           fiber_ID         class  \n",
              "count  78406.000000  78406.000000  \n",
              "mean     460.106905      0.758169  \n",
              "std      276.051943      0.428195  \n",
              "min        1.000000      0.000000  \n",
              "25%      226.000000      1.000000  \n",
              "50%      445.000000      1.000000  \n",
              "75%      673.000000      1.000000  \n",
              "max     1000.000000      1.000000  "
            ],
            "text/html": [
              "\n",
              "  <div id=\"df-44decfae-ba90-4ab3-8ef1-e3266a8b0ac2\">\n",
              "    <div class=\"colab-df-container\">\n",
              "      <div>\n",
              "<style scoped>\n",
              "    .dataframe tbody tr th:only-of-type {\n",
              "        vertical-align: middle;\n",
              "    }\n",
              "\n",
              "    .dataframe tbody tr th {\n",
              "        vertical-align: top;\n",
              "    }\n",
              "\n",
              "    .dataframe thead th {\n",
              "        text-align: right;\n",
              "    }\n",
              "</style>\n",
              "<table border=\"1\" class=\"dataframe\">\n",
              "  <thead>\n",
              "    <tr style=\"text-align: right;\">\n",
              "      <th></th>\n",
              "      <th>alpha</th>\n",
              "      <th>delta</th>\n",
              "      <th>u</th>\n",
              "      <th>g</th>\n",
              "      <th>r</th>\n",
              "      <th>i</th>\n",
              "      <th>z</th>\n",
              "      <th>run_ID</th>\n",
              "      <th>rerun_ID</th>\n",
              "      <th>cam_col</th>\n",
              "      <th>field_ID</th>\n",
              "      <th>spec_obj_ID</th>\n",
              "      <th>redshift</th>\n",
              "      <th>plate</th>\n",
              "      <th>MJD</th>\n",
              "      <th>fiber_ID</th>\n",
              "      <th>class</th>\n",
              "    </tr>\n",
              "  </thead>\n",
              "  <tbody>\n",
              "    <tr>\n",
              "      <th>count</th>\n",
              "      <td>78406.000000</td>\n",
              "      <td>78406.000000</td>\n",
              "      <td>78406.000000</td>\n",
              "      <td>78406.000000</td>\n",
              "      <td>78406.000000</td>\n",
              "      <td>78406.000000</td>\n",
              "      <td>78406.000000</td>\n",
              "      <td>78406.000000</td>\n",
              "      <td>78406.0</td>\n",
              "      <td>78406.000000</td>\n",
              "      <td>78406.000000</td>\n",
              "      <td>7.840600e+04</td>\n",
              "      <td>78406.000000</td>\n",
              "      <td>78406.000000</td>\n",
              "      <td>78406.000000</td>\n",
              "      <td>78406.000000</td>\n",
              "      <td>78406.000000</td>\n",
              "    </tr>\n",
              "    <tr>\n",
              "      <th>mean</th>\n",
              "      <td>178.564041</td>\n",
              "      <td>24.310674</td>\n",
              "      <td>22.335933</td>\n",
              "      <td>20.910960</td>\n",
              "      <td>19.838219</td>\n",
              "      <td>19.233885</td>\n",
              "      <td>18.888702</td>\n",
              "      <td>4530.474670</td>\n",
              "      <td>301.0</td>\n",
              "      <td>3.493801</td>\n",
              "      <td>187.837245</td>\n",
              "      <td>6.047177e+18</td>\n",
              "      <td>0.735512</td>\n",
              "      <td>5370.859552</td>\n",
              "      <td>55714.648318</td>\n",
              "      <td>460.106905</td>\n",
              "      <td>0.758169</td>\n",
              "    </tr>\n",
              "    <tr>\n",
              "      <th>std</th>\n",
              "      <td>95.531566</td>\n",
              "      <td>19.432780</td>\n",
              "      <td>2.150972</td>\n",
              "      <td>1.922379</td>\n",
              "      <td>1.773199</td>\n",
              "      <td>1.704196</td>\n",
              "      <td>1.724996</td>\n",
              "      <td>1970.721529</td>\n",
              "      <td>0.0</td>\n",
              "      <td>1.574923</td>\n",
              "      <td>149.079073</td>\n",
              "      <td>3.352836e+18</td>\n",
              "      <td>0.751086</td>\n",
              "      <td>2977.902009</td>\n",
              "      <td>1828.217999</td>\n",
              "      <td>276.051943</td>\n",
              "      <td>0.428195</td>\n",
              "    </tr>\n",
              "    <tr>\n",
              "      <th>min</th>\n",
              "      <td>0.005528</td>\n",
              "      <td>-15.980904</td>\n",
              "      <td>10.996230</td>\n",
              "      <td>12.679020</td>\n",
              "      <td>11.746640</td>\n",
              "      <td>11.299560</td>\n",
              "      <td>10.897380</td>\n",
              "      <td>109.000000</td>\n",
              "      <td>301.0</td>\n",
              "      <td>1.000000</td>\n",
              "      <td>11.000000</td>\n",
              "      <td>2.995191e+17</td>\n",
              "      <td>-0.009971</td>\n",
              "      <td>266.000000</td>\n",
              "      <td>51608.000000</td>\n",
              "      <td>1.000000</td>\n",
              "      <td>0.000000</td>\n",
              "    </tr>\n",
              "    <tr>\n",
              "      <th>25%</th>\n",
              "      <td>130.966063</td>\n",
              "      <td>5.588466</td>\n",
              "      <td>20.712290</td>\n",
              "      <td>19.594155</td>\n",
              "      <td>18.609452</td>\n",
              "      <td>18.089780</td>\n",
              "      <td>17.742095</td>\n",
              "      <td>3225.000000</td>\n",
              "      <td>301.0</td>\n",
              "      <td>2.000000</td>\n",
              "      <td>83.000000</td>\n",
              "      <td>3.096253e+18</td>\n",
              "      <td>0.256198</td>\n",
              "      <td>2750.000000</td>\n",
              "      <td>54533.000000</td>\n",
              "      <td>226.000000</td>\n",
              "      <td>1.000000</td>\n",
              "    </tr>\n",
              "    <tr>\n",
              "      <th>50%</th>\n",
              "      <td>181.928863</td>\n",
              "      <td>23.733977</td>\n",
              "      <td>22.407380</td>\n",
              "      <td>21.383080</td>\n",
              "      <td>20.311500</td>\n",
              "      <td>19.532460</td>\n",
              "      <td>19.112775</td>\n",
              "      <td>4192.000000</td>\n",
              "      <td>301.0</td>\n",
              "      <td>4.000000</td>\n",
              "      <td>148.000000</td>\n",
              "      <td>5.965182e+18</td>\n",
              "      <td>0.532256</td>\n",
              "      <td>5298.000000</td>\n",
              "      <td>56013.000000</td>\n",
              "      <td>445.000000</td>\n",
              "      <td>1.000000</td>\n",
              "    </tr>\n",
              "    <tr>\n",
              "      <th>75%</th>\n",
              "      <td>232.169937</td>\n",
              "      <td>39.895229</td>\n",
              "      <td>23.836350</td>\n",
              "      <td>22.261197</td>\n",
              "      <td>21.137583</td>\n",
              "      <td>20.479067</td>\n",
              "      <td>19.956543</td>\n",
              "      <td>5323.000000</td>\n",
              "      <td>301.0</td>\n",
              "      <td>5.000000</td>\n",
              "      <td>245.000000</td>\n",
              "      <td>8.559307e+18</td>\n",
              "      <td>0.835665</td>\n",
              "      <td>7602.000000</td>\n",
              "      <td>56984.000000</td>\n",
              "      <td>673.000000</td>\n",
              "      <td>1.000000</td>\n",
              "    </tr>\n",
              "    <tr>\n",
              "      <th>max</th>\n",
              "      <td>359.999615</td>\n",
              "      <td>82.288657</td>\n",
              "      <td>32.781390</td>\n",
              "      <td>31.602240</td>\n",
              "      <td>29.571860</td>\n",
              "      <td>32.141470</td>\n",
              "      <td>29.383740</td>\n",
              "      <td>8162.000000</td>\n",
              "      <td>301.0</td>\n",
              "      <td>6.000000</td>\n",
              "      <td>937.000000</td>\n",
              "      <td>1.412694e+19</td>\n",
              "      <td>7.011245</td>\n",
              "      <td>12547.000000</td>\n",
              "      <td>58932.000000</td>\n",
              "      <td>1000.000000</td>\n",
              "      <td>1.000000</td>\n",
              "    </tr>\n",
              "  </tbody>\n",
              "</table>\n",
              "</div>\n",
              "      <button class=\"colab-df-convert\" onclick=\"convertToInteractive('df-44decfae-ba90-4ab3-8ef1-e3266a8b0ac2')\"\n",
              "              title=\"Convert this dataframe to an interactive table.\"\n",
              "              style=\"display:none;\">\n",
              "        \n",
              "  <svg xmlns=\"http://www.w3.org/2000/svg\" height=\"24px\"viewBox=\"0 0 24 24\"\n",
              "       width=\"24px\">\n",
              "    <path d=\"M0 0h24v24H0V0z\" fill=\"none\"/>\n",
              "    <path d=\"M18.56 5.44l.94 2.06.94-2.06 2.06-.94-2.06-.94-.94-2.06-.94 2.06-2.06.94zm-11 1L8.5 8.5l.94-2.06 2.06-.94-2.06-.94L8.5 2.5l-.94 2.06-2.06.94zm10 10l.94 2.06.94-2.06 2.06-.94-2.06-.94-.94-2.06-.94 2.06-2.06.94z\"/><path d=\"M17.41 7.96l-1.37-1.37c-.4-.4-.92-.59-1.43-.59-.52 0-1.04.2-1.43.59L10.3 9.45l-7.72 7.72c-.78.78-.78 2.05 0 2.83L4 21.41c.39.39.9.59 1.41.59.51 0 1.02-.2 1.41-.59l7.78-7.78 2.81-2.81c.8-.78.8-2.07 0-2.86zM5.41 20L4 18.59l7.72-7.72 1.47 1.35L5.41 20z\"/>\n",
              "  </svg>\n",
              "      </button>\n",
              "      \n",
              "  <style>\n",
              "    .colab-df-container {\n",
              "      display:flex;\n",
              "      flex-wrap:wrap;\n",
              "      gap: 12px;\n",
              "    }\n",
              "\n",
              "    .colab-df-convert {\n",
              "      background-color: #E8F0FE;\n",
              "      border: none;\n",
              "      border-radius: 50%;\n",
              "      cursor: pointer;\n",
              "      display: none;\n",
              "      fill: #1967D2;\n",
              "      height: 32px;\n",
              "      padding: 0 0 0 0;\n",
              "      width: 32px;\n",
              "    }\n",
              "\n",
              "    .colab-df-convert:hover {\n",
              "      background-color: #E2EBFA;\n",
              "      box-shadow: 0px 1px 2px rgba(60, 64, 67, 0.3), 0px 1px 3px 1px rgba(60, 64, 67, 0.15);\n",
              "      fill: #174EA6;\n",
              "    }\n",
              "\n",
              "    [theme=dark] .colab-df-convert {\n",
              "      background-color: #3B4455;\n",
              "      fill: #D2E3FC;\n",
              "    }\n",
              "\n",
              "    [theme=dark] .colab-df-convert:hover {\n",
              "      background-color: #434B5C;\n",
              "      box-shadow: 0px 1px 3px 1px rgba(0, 0, 0, 0.15);\n",
              "      filter: drop-shadow(0px 1px 2px rgba(0, 0, 0, 0.3));\n",
              "      fill: #FFFFFF;\n",
              "    }\n",
              "  </style>\n",
              "\n",
              "      <script>\n",
              "        const buttonEl =\n",
              "          document.querySelector('#df-44decfae-ba90-4ab3-8ef1-e3266a8b0ac2 button.colab-df-convert');\n",
              "        buttonEl.style.display =\n",
              "          google.colab.kernel.accessAllowed ? 'block' : 'none';\n",
              "\n",
              "        async function convertToInteractive(key) {\n",
              "          const element = document.querySelector('#df-44decfae-ba90-4ab3-8ef1-e3266a8b0ac2');\n",
              "          const dataTable =\n",
              "            await google.colab.kernel.invokeFunction('convertToInteractive',\n",
              "                                                     [key], {});\n",
              "          if (!dataTable) return;\n",
              "\n",
              "          const docLinkHtml = 'Like what you see? Visit the ' +\n",
              "            '<a target=\"_blank\" href=https://colab.research.google.com/notebooks/data_table.ipynb>data table notebook</a>'\n",
              "            + ' to learn more about interactive tables.';\n",
              "          element.innerHTML = '';\n",
              "          dataTable['output_type'] = 'display_data';\n",
              "          await google.colab.output.renderOutput(dataTable, element);\n",
              "          const docLink = document.createElement('div');\n",
              "          docLink.innerHTML = docLinkHtml;\n",
              "          element.appendChild(docLink);\n",
              "        }\n",
              "      </script>\n",
              "    </div>\n",
              "  </div>\n",
              "  "
            ]
          },
          "metadata": {},
          "execution_count": 51
        }
      ],
      "source": [
        "observaciones.describe()"
      ]
    },
    {
      "cell_type": "code",
      "source": [
        "observaciones.head(3)"
      ],
      "metadata": {
        "colab": {
          "base_uri": "https://localhost:8080/",
          "height": 143
        },
        "id": "R_RvIsh_dksp",
        "outputId": "cc9c578b-93f4-4fcb-baab-c921ab3d631c"
      },
      "execution_count": 52,
      "outputs": [
        {
          "output_type": "execute_result",
          "data": {
            "text/plain": [
              "        alpha      delta         u         g         r         i         z  \\\n",
              "0  135.689107  32.494632  23.87882  22.27530  20.39501  19.16573  18.79371   \n",
              "1  144.826101  31.274185  24.77759  22.83188  22.58444  21.16812  21.61427   \n",
              "2  142.188790  35.582444  25.26307  22.66389  20.60976  19.34857  18.94827   \n",
              "\n",
              "   run_ID  rerun_ID  cam_col  field_ID   spec_obj_ID  redshift  plate    MJD  \\\n",
              "0    3606       301        2        79  6.543777e+18  0.634794   5812  56354   \n",
              "1    4518       301        5       119  1.176014e+19  0.779136  10445  58158   \n",
              "2    3606       301        2       120  5.152200e+18  0.644195   4576  55592   \n",
              "\n",
              "   fiber_ID  class  \n",
              "0       171      1  \n",
              "1       427      1  \n",
              "2       299      1  "
            ],
            "text/html": [
              "\n",
              "  <div id=\"df-9a6f1935-01ee-4d1b-8757-3baa13d55884\">\n",
              "    <div class=\"colab-df-container\">\n",
              "      <div>\n",
              "<style scoped>\n",
              "    .dataframe tbody tr th:only-of-type {\n",
              "        vertical-align: middle;\n",
              "    }\n",
              "\n",
              "    .dataframe tbody tr th {\n",
              "        vertical-align: top;\n",
              "    }\n",
              "\n",
              "    .dataframe thead th {\n",
              "        text-align: right;\n",
              "    }\n",
              "</style>\n",
              "<table border=\"1\" class=\"dataframe\">\n",
              "  <thead>\n",
              "    <tr style=\"text-align: right;\">\n",
              "      <th></th>\n",
              "      <th>alpha</th>\n",
              "      <th>delta</th>\n",
              "      <th>u</th>\n",
              "      <th>g</th>\n",
              "      <th>r</th>\n",
              "      <th>i</th>\n",
              "      <th>z</th>\n",
              "      <th>run_ID</th>\n",
              "      <th>rerun_ID</th>\n",
              "      <th>cam_col</th>\n",
              "      <th>field_ID</th>\n",
              "      <th>spec_obj_ID</th>\n",
              "      <th>redshift</th>\n",
              "      <th>plate</th>\n",
              "      <th>MJD</th>\n",
              "      <th>fiber_ID</th>\n",
              "      <th>class</th>\n",
              "    </tr>\n",
              "  </thead>\n",
              "  <tbody>\n",
              "    <tr>\n",
              "      <th>0</th>\n",
              "      <td>135.689107</td>\n",
              "      <td>32.494632</td>\n",
              "      <td>23.87882</td>\n",
              "      <td>22.27530</td>\n",
              "      <td>20.39501</td>\n",
              "      <td>19.16573</td>\n",
              "      <td>18.79371</td>\n",
              "      <td>3606</td>\n",
              "      <td>301</td>\n",
              "      <td>2</td>\n",
              "      <td>79</td>\n",
              "      <td>6.543777e+18</td>\n",
              "      <td>0.634794</td>\n",
              "      <td>5812</td>\n",
              "      <td>56354</td>\n",
              "      <td>171</td>\n",
              "      <td>1</td>\n",
              "    </tr>\n",
              "    <tr>\n",
              "      <th>1</th>\n",
              "      <td>144.826101</td>\n",
              "      <td>31.274185</td>\n",
              "      <td>24.77759</td>\n",
              "      <td>22.83188</td>\n",
              "      <td>22.58444</td>\n",
              "      <td>21.16812</td>\n",
              "      <td>21.61427</td>\n",
              "      <td>4518</td>\n",
              "      <td>301</td>\n",
              "      <td>5</td>\n",
              "      <td>119</td>\n",
              "      <td>1.176014e+19</td>\n",
              "      <td>0.779136</td>\n",
              "      <td>10445</td>\n",
              "      <td>58158</td>\n",
              "      <td>427</td>\n",
              "      <td>1</td>\n",
              "    </tr>\n",
              "    <tr>\n",
              "      <th>2</th>\n",
              "      <td>142.188790</td>\n",
              "      <td>35.582444</td>\n",
              "      <td>25.26307</td>\n",
              "      <td>22.66389</td>\n",
              "      <td>20.60976</td>\n",
              "      <td>19.34857</td>\n",
              "      <td>18.94827</td>\n",
              "      <td>3606</td>\n",
              "      <td>301</td>\n",
              "      <td>2</td>\n",
              "      <td>120</td>\n",
              "      <td>5.152200e+18</td>\n",
              "      <td>0.644195</td>\n",
              "      <td>4576</td>\n",
              "      <td>55592</td>\n",
              "      <td>299</td>\n",
              "      <td>1</td>\n",
              "    </tr>\n",
              "  </tbody>\n",
              "</table>\n",
              "</div>\n",
              "      <button class=\"colab-df-convert\" onclick=\"convertToInteractive('df-9a6f1935-01ee-4d1b-8757-3baa13d55884')\"\n",
              "              title=\"Convert this dataframe to an interactive table.\"\n",
              "              style=\"display:none;\">\n",
              "        \n",
              "  <svg xmlns=\"http://www.w3.org/2000/svg\" height=\"24px\"viewBox=\"0 0 24 24\"\n",
              "       width=\"24px\">\n",
              "    <path d=\"M0 0h24v24H0V0z\" fill=\"none\"/>\n",
              "    <path d=\"M18.56 5.44l.94 2.06.94-2.06 2.06-.94-2.06-.94-.94-2.06-.94 2.06-2.06.94zm-11 1L8.5 8.5l.94-2.06 2.06-.94-2.06-.94L8.5 2.5l-.94 2.06-2.06.94zm10 10l.94 2.06.94-2.06 2.06-.94-2.06-.94-.94-2.06-.94 2.06-2.06.94z\"/><path d=\"M17.41 7.96l-1.37-1.37c-.4-.4-.92-.59-1.43-.59-.52 0-1.04.2-1.43.59L10.3 9.45l-7.72 7.72c-.78.78-.78 2.05 0 2.83L4 21.41c.39.39.9.59 1.41.59.51 0 1.02-.2 1.41-.59l7.78-7.78 2.81-2.81c.8-.78.8-2.07 0-2.86zM5.41 20L4 18.59l7.72-7.72 1.47 1.35L5.41 20z\"/>\n",
              "  </svg>\n",
              "      </button>\n",
              "      \n",
              "  <style>\n",
              "    .colab-df-container {\n",
              "      display:flex;\n",
              "      flex-wrap:wrap;\n",
              "      gap: 12px;\n",
              "    }\n",
              "\n",
              "    .colab-df-convert {\n",
              "      background-color: #E8F0FE;\n",
              "      border: none;\n",
              "      border-radius: 50%;\n",
              "      cursor: pointer;\n",
              "      display: none;\n",
              "      fill: #1967D2;\n",
              "      height: 32px;\n",
              "      padding: 0 0 0 0;\n",
              "      width: 32px;\n",
              "    }\n",
              "\n",
              "    .colab-df-convert:hover {\n",
              "      background-color: #E2EBFA;\n",
              "      box-shadow: 0px 1px 2px rgba(60, 64, 67, 0.3), 0px 1px 3px 1px rgba(60, 64, 67, 0.15);\n",
              "      fill: #174EA6;\n",
              "    }\n",
              "\n",
              "    [theme=dark] .colab-df-convert {\n",
              "      background-color: #3B4455;\n",
              "      fill: #D2E3FC;\n",
              "    }\n",
              "\n",
              "    [theme=dark] .colab-df-convert:hover {\n",
              "      background-color: #434B5C;\n",
              "      box-shadow: 0px 1px 3px 1px rgba(0, 0, 0, 0.15);\n",
              "      filter: drop-shadow(0px 1px 2px rgba(0, 0, 0, 0.3));\n",
              "      fill: #FFFFFF;\n",
              "    }\n",
              "  </style>\n",
              "\n",
              "      <script>\n",
              "        const buttonEl =\n",
              "          document.querySelector('#df-9a6f1935-01ee-4d1b-8757-3baa13d55884 button.colab-df-convert');\n",
              "        buttonEl.style.display =\n",
              "          google.colab.kernel.accessAllowed ? 'block' : 'none';\n",
              "\n",
              "        async function convertToInteractive(key) {\n",
              "          const element = document.querySelector('#df-9a6f1935-01ee-4d1b-8757-3baa13d55884');\n",
              "          const dataTable =\n",
              "            await google.colab.kernel.invokeFunction('convertToInteractive',\n",
              "                                                     [key], {});\n",
              "          if (!dataTable) return;\n",
              "\n",
              "          const docLinkHtml = 'Like what you see? Visit the ' +\n",
              "            '<a target=\"_blank\" href=https://colab.research.google.com/notebooks/data_table.ipynb>data table notebook</a>'\n",
              "            + ' to learn more about interactive tables.';\n",
              "          element.innerHTML = '';\n",
              "          dataTable['output_type'] = 'display_data';\n",
              "          await google.colab.output.renderOutput(dataTable, element);\n",
              "          const docLink = document.createElement('div');\n",
              "          docLink.innerHTML = docLinkHtml;\n",
              "          element.appendChild(docLink);\n",
              "        }\n",
              "      </script>\n",
              "    </div>\n",
              "  </div>\n",
              "  "
            ]
          },
          "metadata": {},
          "execution_count": 52
        }
      ]
    },
    {
      "cell_type": "markdown",
      "metadata": {
        "id": "ywZ0bGN4Fj3m"
      },
      "source": [
        "#### Distribución por clase"
      ]
    },
    {
      "cell_type": "code",
      "execution_count": 53,
      "metadata": {
        "colab": {
          "base_uri": "https://localhost:8080/",
          "height": 281
        },
        "id": "X0GHbWaXFj3o",
        "outputId": "40bed6b8-264e-4afe-c612-11258013602e"
      },
      "outputs": [
        {
          "output_type": "display_data",
          "data": {
            "text/plain": [
              "<Figure size 432x288 with 1 Axes>"
            ],
            "image/png": "[encoded data removed]"
          },
          "metadata": {
            "needs_background": "light"
          }
        }
      ],
      "source": [
        "plt.title('Distribución por clase')\n",
        "plt.hist(observaciones['class'], color='gray')\n",
        "plt.show()"
      ]
    },
    {
      "cell_type": "markdown",
      "metadata": {
        "id": "xsJsby2XFj3p"
      },
      "source": [
        "El gráfico anterior muestra cómo existen muchas más observaciones que corresponden a galaxias, para cuásares la cantidad de observaciones es mucho menor."
      ]
    },
    {
      "cell_type": "code",
      "execution_count": 54,
      "metadata": {
        "colab": {
          "base_uri": "https://localhost:8080/",
          "height": 615
        },
        "id": "_g3vhAZwFj3t",
        "outputId": "65fa8b58-4f8e-4fad-f890-c08601b57d8c"
      },
      "outputs": [
        {
          "output_type": "execute_result",
          "data": {
            "text/plain": [
              "class\n",
              "0    AxesSubplot(0.125,0.125;0.775x0.755)\n",
              "1    AxesSubplot(0.125,0.125;0.775x0.755)\n",
              "dtype: object"
            ]
          },
          "metadata": {},
          "execution_count": 54
        },
        {
          "output_type": "display_data",
          "data": {
            "text/plain": [
              "<Figure size 432x288 with 1 Axes>"
            ],
            "image/png": "[encoded data removed]"
          },
          "metadata": {
            "needs_background": "light"
          }
        },
        {
          "output_type": "display_data",
          "data": {
            "text/plain": [
              "<Figure size 432x288 with 1 Axes>"
            ],
            "image/png": "[encoded data removed]"
          },
          "metadata": {
            "needs_background": "light"
          }
        }
      ],
      "source": [
        "observaciones.groupby('class').plot(x='alpha', y='delta', kind = 'scatter', color = 'purple', alpha = 0.1)"
      ]
    },
    {
      "cell_type": "markdown",
      "metadata": {
        "id": "_s8diTr9Fj3u"
      },
      "source": [
        "Los gráficos anteriores muestran la relación que existe entre el valor *alpha* y *delta* para cada observación dividida por clase. Se observa que se tiende a usar ciertos valores de *delta* para ciertos valores de *alpha*, que corresponden al ángulo de ascenso y declinación de la observación."
      ]
    },
    {
      "cell_type": "code",
      "execution_count": 55,
      "metadata": {
        "colab": {
          "base_uri": "https://localhost:8080/",
          "height": 619
        },
        "id": "EBlMYf48Fj3u",
        "outputId": "f2af1bb3-8022-4e5a-f9d8-9e1258e10dc4"
      },
      "outputs": [
        {
          "output_type": "execute_result",
          "data": {
            "text/plain": [
              "class\n",
              "0    AxesSubplot(0.125,0.125;0.775x0.755)\n",
              "1    AxesSubplot(0.125,0.125;0.775x0.755)\n",
              "dtype: object"
            ]
          },
          "metadata": {},
          "execution_count": 55
        },
        {
          "output_type": "display_data",
          "data": {
            "text/plain": [
              "<Figure size 432x288 with 1 Axes>"
            ],
            "image/png": "[encoded data removed]"
          },
          "metadata": {
            "needs_background": "light"
          }
        },
        {
          "output_type": "display_data",
          "data": {
            "text/plain": [
              "<Figure size 432x288 with 1 Axes>"
            ],
            "image/png": "[encoded data removed]"
          },
          "metadata": {
            "needs_background": "light"
          }
        }
      ],
      "source": [
        "observaciones.groupby('class').plot(x='u', y='g', kind = 'scatter', color = 'purple', alpha = 0.8)"
      ]
    },
    {
      "cell_type": "code",
      "source": [
        "observaciones.groupby('class').plot(x='u', y='r', kind = 'scatter', color = 'black', alpha = 0.8)"
      ],
      "metadata": {
        "colab": {
          "base_uri": "https://localhost:8080/",
          "height": 617
        },
        "id": "fFGqRUNB0lCt",
        "outputId": "3370c13d-ae05-4208-f0c0-fff980b5f7f4"
      },
      "execution_count": 56,
      "outputs": [
        {
          "output_type": "execute_result",
          "data": {
            "text/plain": [
              "class\n",
              "0    AxesSubplot(0.125,0.125;0.775x0.755)\n",
              "1    AxesSubplot(0.125,0.125;0.775x0.755)\n",
              "dtype: object"
            ]
          },
          "metadata": {},
          "execution_count": 56
        },
        {
          "output_type": "display_data",
          "data": {
            "text/plain": [
              "<Figure size 432x288 with 1 Axes>"
            ],
            "image/png": "[encoded data removed]"
          },
          "metadata": {
            "needs_background": "light"
          }
        },
        {
          "output_type": "display_data",
          "data": {
            "text/plain": [
              "<Figure size 432x288 with 1 Axes>"
            ],
            "image/png": "[encoded data removed]"
          },
          "metadata": {
            "needs_background": "light"
          }
        }
      ]
    },
    {
      "cell_type": "markdown",
      "metadata": {
        "id": "FijPFqU6Fj3v"
      },
      "source": [
        "Los gráficos anteriores ayudan a ver la relación que existen entre los filtros utilizados para encontrar cada observación, ya sea galaxia o cuásar. La tendencia parece utilizar filtros rojos y verdes similares para cada filtro ultravioleta en las observaciones de galaxias y cuásares."
      ]
    },
    {
      "cell_type": "markdown",
      "metadata": {
        "id": "uJaYeqIWFj3v"
      },
      "source": [
        "### Selección de Atributos "
      ]
    },
    {
      "cell_type": "markdown",
      "metadata": {
        "id": "DCFZ7fgkFj3w"
      },
      "source": [
        "#### Feature Importance\n",
        "Se construye un *ExtraTreeClassifier* para evaluar la importancia de las variables y su influencia en la variable que se quiere predecir, el cual es la clase de la observación."
      ]
    },
    {
      "cell_type": "code",
      "execution_count": 25,
      "metadata": {
        "colab": {
          "base_uri": "https://localhost:8080/"
        },
        "id": "xJU7Pyt6Fj3x",
        "outputId": "d0d160e9-ba0c-43ff-9a1a-2f9b9c89e5fe"
      },
      "outputs": [
        {
          "output_type": "stream",
          "name": "stdout",
          "text": [
            "('redshift', 0.438159244254732)\n",
            "('u', 0.10480093845391128)\n",
            "('g', 0.08339128115016857)\n",
            "('z', 0.07956103431163997)\n",
            "('r', 0.05539842316592072)\n",
            "('i', 0.05399508276631171)\n",
            "('plate', 0.04424780896158438)\n",
            "('MJD', 0.03566090705232691)\n",
            "('spec_obj_ID', 0.03091198469647475)\n",
            "('delta', 0.016914582008946653)\n",
            "('alpha', 0.014695934679477071)\n",
            "('run_ID', 0.011987853026766138)\n",
            "('fiber_ID', 0.011004858922169694)\n",
            "('field_ID', 0.010507078476850366)\n",
            "('cam_col', 0.008762988072719892)\n",
            "('rerun_ID', 0.0)\n"
          ]
        }
      ],
      "source": [
        "from sklearn.ensemble import ExtraTreesClassifier\n",
        "from numpy import set_printoptions\n",
        "from sklearn.feature_selection import SelectKBest\n",
        "from sklearn.feature_selection import f_classif\n",
        "\n",
        "array = observaciones.values\n",
        "X = array[:,0:16]\n",
        "Y = array[:,16]\n",
        "model = ExtraTreesClassifier(n_estimators=20)\n",
        "model.fit(X,Y)\n",
        "\n",
        "i = 0\n",
        "columnas = list(observaciones.keys())\n",
        "diccionario = {}\n",
        "for variable in model.feature_importances_:\n",
        "  diccionario[columnas[i]] = variable\n",
        "  i+=1\n",
        "\n",
        "diccionario = sorted(diccionario.items(), key=lambda x: x[1], reverse=True)\n",
        "for valor in diccionario:\n",
        "  print(valor)\n"
      ]
    },
    {
      "cell_type": "markdown",
      "source": [
        "Según esta técnica, las variables que más influyen en la clasificación de una observación son *redshift* y los filtros utilizados al momento de usar la toma, excepto el filtro rojo (*r*)."
      ],
      "metadata": {
        "id": "j7cziMsb1mZA"
      }
    },
    {
      "cell_type": "markdown",
      "metadata": {
        "id": "FuCVY5ClFj3y"
      },
      "source": [
        "#### Univariate Selection\n",
        "Se busca recursivamente cuál conjunto de atributos funciona mejor al momento de predecir la variable de respuesta, eliminando y construyendo modelos con los atributos restantes."
      ]
    },
    {
      "cell_type": "code",
      "execution_count": 26,
      "metadata": {
        "colab": {
          "base_uri": "https://localhost:8080/"
        },
        "id": "JQEWRoMMFj3z",
        "outputId": "9e77952f-b97d-42b8-cdaa-dceb1a879d01"
      },
      "outputs": [
        {
          "output_type": "stream",
          "name": "stdout",
          "text": [
            "('rerun_ID', nan)\n",
            "('redshift', 94923.9245408989)\n",
            "('z', 20039.061756697192)\n",
            "('i', 14650.269044361803)\n",
            "('plate', 7651.208814499924)\n",
            "('spec_obj_ID', 7651.201808211597)\n",
            "('MJD', 6774.390758169013)\n",
            "('r', 5240.54022461797)\n",
            "('u', 3509.419185203759)\n",
            "('delta', 415.41430432887745)\n",
            "('fiber_ID', 289.7990643276898)\n",
            "('field_ID', 111.56892418158256)\n",
            "('run_ID', 17.568124644189233)\n",
            "('alpha', 10.00097547549951)\n",
            "('cam_col', 8.301178695261434)\n",
            "('g', 1.5702860007241217)\n"
          ]
        },
        {
          "output_type": "stream",
          "name": "stderr",
          "text": [
            "/usr/local/lib/python3.7/dist-packages/sklearn/feature_selection/_univariate_selection.py:112: UserWarning: Features [8] are constant.\n",
            "  warnings.warn(\"Features %s are constant.\" % constant_features_idx, UserWarning)\n",
            "/usr/local/lib/python3.7/dist-packages/sklearn/feature_selection/_univariate_selection.py:113: RuntimeWarning: invalid value encountered in true_divide\n",
            "  f = msb / msw\n"
          ]
        }
      ],
      "source": [
        "from numpy import set_printoptions\n",
        "from sklearn.feature_selection import SelectKBest\n",
        "from sklearn.feature_selection import f_classif\n",
        "\n",
        "array = observaciones.values\n",
        "X = array[:,0:16]\n",
        "Y = array[:,16]\n",
        "test = SelectKBest(score_func=f_classif, k=10)\n",
        "fit = test.fit(X, Y)\n",
        "\n",
        "i = 0\n",
        "columnas = list(observaciones.keys())\n",
        "diccionario = {}\n",
        "for variable in fit.scores_:\n",
        "  diccionario[columnas[i]] = variable\n",
        "  i+=1\n",
        "\n",
        "diccionario = sorted(diccionario.items(), key=lambda x: x[1], reverse=True)\n",
        "for valor in diccionario:\n",
        "  print(valor)"
      ]
    },
    {
      "cell_type": "markdown",
      "source": [
        "Esta técnica arroja resultados relativamente diferentes, aunque resalta la importancia que parece tener la variable *redshift*, así como las variables *z* y *r* que corresponden a unos de los filtros. Las variables *spec_obj_ID* y *plate* también parecen tener relevancia e influencia en la variable de respuesta."
      ],
      "metadata": {
        "id": "xDMQhN6aNIWz"
      }
    },
    {
      "cell_type": "markdown",
      "source": [
        "### Redes Neuronales"
      ],
      "metadata": {
        "id": "UkNpalNJUfWW"
      }
    },
    {
      "cell_type": "markdown",
      "source": [
        "Las tres distintas arquitecturas de red neuronal deben tener 16 neuronas en la capa de entrada (pues hay 16 variables) y una neurona en la capa de salida (pues es una clasificación binaria y solo produce un resultado: 0, 1)."
      ],
      "metadata": {
        "id": "0dRHKrioJrP-"
      }
    },
    {
      "cell_type": "code",
      "source": [
        "from keras.models import Sequential\n",
        "from keras.layers import Dense\n",
        "from tensorflow.keras.optimizers import SGD\n",
        "\n",
        "dataset_train = 'https://raw.githubusercontent.com/rigovil/ci0163/main/tareas/tarea_3/dataset_train.csv'\n",
        "dataset_test = 'https://raw.githubusercontent.com/rigovil/ci0163/main/tareas/tarea_3/dataset_test.csv'\n",
        "training = pd.read_csv(dataset_train, sep=',')\n",
        "testing = pd.read_csv(dataset_test, sep=',')\n",
        "\n",
        "# para entrenamiento de las redes\n",
        "array = training.values\n",
        "X = array[:,0:16]\n",
        "y = array[:,16]"
      ],
      "metadata": {
        "id": "Mif8n3LT0CDj"
      },
      "execution_count": 57,
      "outputs": []
    },
    {
      "cell_type": "markdown",
      "source": [
        "#### Primera Red Neuronal"
      ],
      "metadata": {
        "id": "cKgFb9NAOJCe"
      }
    },
    {
      "cell_type": "markdown",
      "source": [
        "La primera red neuronal se conforma de:\n",
        "\n",
        "\n",
        "*   **Capa de entrada:** 16 neuronas\n",
        "*   Capa oculta I: 12 neuronas\n",
        "*   Capa oculta II: 8 neuronas\n",
        "*   Capa oculta III: 4 neuronas\n",
        "*   Capa oculta IV: 2 neuronas\n",
        "*   **Capa de salida:** 1 neurona"
      ],
      "metadata": {
        "id": "MLCF-RHIKzZE"
      }
    },
    {
      "cell_type": "code",
      "source": [
        "model = Sequential()\n",
        "model.add(Dense(12, input_dim=16, activation='relu'))\n",
        "model.add(Dense(8, activation='relu'))\n",
        "model.add(Dense(4, activation='relu'))\n",
        "model.add(Dense(2, activation='relu'))\n",
        "model.add(Dense(1, activation='sigmoid'))\n",
        "\n",
        "opt = SGD(learning_rate=0.01, momentum=0.9)\n",
        "model.compile(loss='binary_crossentropy', optimizer=opt, metrics=['accuracy'])\n",
        "model.fit(X, y, epochs=5, batch_size=5)\n",
        "\n",
        "_, accuracy = model.evaluate(X, y)\n",
        "print('Accuracy: %.2f' % (accuracy*100))"
      ],
      "metadata": {
        "colab": {
          "base_uri": "https://localhost:8080/"
        },
        "id": "kTIGe0Kr2kpo",
        "outputId": "78ba21d5-2d70-4b84-f712-6bdd7d3ddc29"
      },
      "execution_count": 58,
      "outputs": [
        {
          "output_type": "stream",
          "name": "stdout",
          "text": [
            "Epoch 1/5\n",
            "10663/10663 [==============================] - 16s 1ms/step - loss: 0.5493 - accuracy: 0.7626\n",
            "Epoch 2/5\n",
            "10663/10663 [==============================] - 16s 1ms/step - loss: 0.5489 - accuracy: 0.7626\n",
            "Epoch 3/5\n",
            "10663/10663 [==============================] - 16s 2ms/step - loss: 0.5490 - accuracy: 0.7626\n",
            "Epoch 4/5\n",
            "10663/10663 [==============================] - 15s 1ms/step - loss: 0.5489 - accuracy: 0.7626\n",
            "Epoch 5/5\n",
            "10663/10663 [==============================] - 16s 1ms/step - loss: 0.5489 - accuracy: 0.7626\n",
            "1667/1667 [==============================] - 7s 3ms/step - loss: 0.5481 - accuracy: 0.7626\n",
            "Accuracy: 76.26\n"
          ]
        }
      ]
    },
    {
      "cell_type": "markdown",
      "source": [
        "Con el dataset de entrenamiento, esta arquitectura logra obtener una precisión del 76%. La cantidad de *epochs* y *batch_size* son elegidas para que la red no tarde mucho tiempo en entrenarse."
      ],
      "metadata": {
        "id": "BfDN9wdMK2hz"
      }
    },
    {
      "cell_type": "code",
      "source": [
        "array = testing.values\n",
        "X_test = array[:,0:16]\n",
        "y_test = array[:,16]\n",
        "\n",
        "predictions = (model.predict(X_test) > 0.5).astype(int)\n",
        "for i in range(10):\n",
        "\tprint('%s => %d (expected %d)' % (X_test[i].tolist(), predictions[i], y_test[i]))\n",
        "\n",
        "aciertos = 0\n",
        "fallos = 0\n",
        "total = 0\n",
        "\n",
        "for i in range(len(predictions)):\n",
        "  if(predictions[i] == y_test[i]):\n",
        "    aciertos = aciertos+1\n",
        "  else:\n",
        "    fallos = fallos+1\n",
        "  total = total+1\n",
        "\n",
        "print(\"----------------------------------------------\")\n",
        "print('Aciertos: ' + str(aciertos))\n",
        "print('Fallos: ' + str(fallos))\n",
        "print('Precision: ' + str(aciertos/total))\n"
      ],
      "metadata": {
        "colab": {
          "base_uri": "https://localhost:8080/"
        },
        "id": "8_BKnJAjEWjK",
        "outputId": "04c414c2-2908-48e4-96a7-090a17c70b83"
      },
      "execution_count": 72,
      "outputs": [
        {
          "output_type": "stream",
          "name": "stdout",
          "text": [
            "[142.942988016146, 16.9892002308419, 24.843, 22.20632, 21.65898, 20.77094, 20.22223, 5183.0, 301.0, 3.0, 83.0, 1.07503642953953e+19, 0.8033257, 9548.0, 57785.0, 989.0] => 1 (expected 1)\n",
            "[135.263303698825, 28.9744014344227, 21.49, 21.10227, 20.61004, 20.54189, 20.29885, 4335.0, 301.0, 5.0, 170.0, 6.508955011124582e+18, 0.9349682, 5781.0, 56337.0, 464.0] => 1 (expected 0)\n",
            "[201.572312709273, 33.8946826937633, 25.02784, 22.32312, 20.4404, 19.53025, 19.03813, 4576.0, 301.0, 4.0, 540.0, 4.483425602603604e+18, 0.4897552, 3982.0, 55332.0, 335.0] => 1 (expected 1)\n",
            "[84.0635051413466, -0.749742975413596, 22.50879, 21.14568, 20.36354, 20.07761, 19.89473, 4158.0, 301.0, 2.0, 67.0, 2.332865764035422e+18, 2.032836, 2072.0, 53430.0, 4.0] => 1 (expected 0)\n",
            "[31.1225755127823, -3.84897972198744, 23.44521, 22.20478, 21.38653, 21.37965, 20.27652, 7865.0, 301.0, 5.0, 122.0, 1.0501468946687089e+19, 0.736698, 9327.0, 57723.0, 729.0] => 1 (expected 1)\n",
            "[167.318475165197, 37.9585887385657, 24.16212, 22.77856, 20.92657, 19.75272, 19.29668, 3900.0, 301.0, 2.0, 282.0, 5.20288444448744e+18, 0.6229256, 4621.0, 55649.0, 367.0] => 1 (expected 1)\n",
            "[227.110429698936, 40.467789122811, 25.57664, 22.03811, 20.22528, 19.1288, 18.68789, 2964.0, 301.0, 1.0, 527.0, 6.816236071334204e+18, 0.5581567, 6054.0, 56089.0, 138.0] => 1 (expected 1)\n",
            "[246.157536710827, 38.9306396165688, 24.15132, 20.78694, 19.08534, 18.4451, 18.05503, 3225.0, 301.0, 2.0, 238.0, 5.843589393504557e+18, 0.3996373, 5190.0, 56077.0, 614.0] => 1 (expected 1)\n",
            "[160.947908048379, 47.7342630353669, 25.68674, 21.54552, 19.89434, 19.12761, 18.7608, 2964.0, 301.0, 4.0, 215.0, 7.544783200801021e+18, 0.4752748, 6701.0, 56367.0, 465.0] => 1 (expected 1)\n",
            "[33.6536785039676, 28.8319360557876, 22.82358, 21.26405, 20.65611, 19.78551, 19.67262, 7941.0, 301.0, 3.0, 101.0, 7.061904081456224e+18, 0.6603321, 6272.0, 56325.0, 945.0] => 1 (expected 1)\n",
            "----------------------------------------------\n",
            "Aciertos: 18786\n",
            "Fallos: 6306\n",
            "Precision: 0.7486848397895743\n"
          ]
        }
      ]
    },
    {
      "cell_type": "markdown",
      "source": [
        "Una vez entrenada la primera arquitectura de la red neuronal, se utilizó el dataset de testing y la red arrojó resultados obteniendo una precisión del 74%, similar a la que obtuvo cuando se entrenó."
      ],
      "metadata": {
        "id": "Qe3mjDknLHxk"
      }
    },
    {
      "cell_type": "markdown",
      "source": [
        "#### Segunda Red Neuronal"
      ],
      "metadata": {
        "id": "65Z20-s8OMEl"
      }
    },
    {
      "cell_type": "markdown",
      "source": [
        "La segunda red neuronal se conforma de:\n",
        "\n",
        "\n",
        "*   **Capa de entrada:** 16 neuronas\n",
        "*   Capa oculta II: 4 neuronas\n",
        "*   **Capa de salida:** 1 neurona"
      ],
      "metadata": {
        "id": "GRP-xOeELeOS"
      }
    },
    {
      "cell_type": "code",
      "source": [
        "model2 = Sequential()\n",
        "model2.add(Dense(4, input_dim=16, activation='relu'))\n",
        "model2.add(Dense(1, activation='sigmoid'))\n",
        "\n",
        "opt = SGD(learning_rate=0.01, momentum=0.9)\n",
        "model2.compile(loss='binary_crossentropy', optimizer=opt, metrics=['accuracy'])\n",
        "model2.fit(X, y, epochs=10, batch_size=5)\n",
        "\n",
        "_, accuracy = model2.evaluate(X, y)\n",
        "print('Accuracy: %.2f' % (accuracy*100))"
      ],
      "metadata": {
        "colab": {
          "base_uri": "https://localhost:8080/"
        },
        "id": "ATWjoNe_Lhts",
        "outputId": "9449c365-5d55-4001-e45b-cfc9239c9ef9"
      },
      "execution_count": 70,
      "outputs": [
        {
          "output_type": "stream",
          "name": "stdout",
          "text": [
            "Epoch 1/10\n",
            "5019/5019 [==============================] - 8s 2ms/step - loss: nan - accuracy: 0.7486\n",
            "Epoch 2/10\n",
            "5019/5019 [==============================] - 7s 1ms/step - loss: 0.5648 - accuracy: 0.7487\n",
            "Epoch 3/10\n",
            "5019/5019 [==============================] - 8s 1ms/step - loss: 0.5648 - accuracy: 0.7487\n",
            "Epoch 4/10\n",
            "5019/5019 [==============================] - 7s 1ms/step - loss: 0.5647 - accuracy: 0.7487\n",
            "Epoch 5/10\n",
            "5019/5019 [==============================] - 7s 1ms/step - loss: 0.5647 - accuracy: 0.7487\n",
            "Epoch 6/10\n",
            "5019/5019 [==============================] - 7s 1ms/step - loss: 0.5649 - accuracy: 0.7487\n",
            "Epoch 7/10\n",
            "5019/5019 [==============================] - 7s 1ms/step - loss: 0.5647 - accuracy: 0.7487\n",
            "Epoch 8/10\n",
            "5019/5019 [==============================] - 7s 1ms/step - loss: 0.5647 - accuracy: 0.7487\n",
            "Epoch 9/10\n",
            "5019/5019 [==============================] - 7s 1ms/step - loss: 0.5648 - accuracy: 0.7487\n",
            "Epoch 10/10\n",
            "5019/5019 [==============================] - 7s 1ms/step - loss: 0.5649 - accuracy: 0.7487\n",
            "785/785 [==============================] - 1s 1ms/step - loss: 0.5638 - accuracy: 0.7487\n",
            "Accuracy: 74.87\n"
          ]
        }
      ]
    },
    {
      "cell_type": "code",
      "source": [
        "array = testing.values\n",
        "X_test = array[:,0:16]\n",
        "y_test = array[:,16]\n",
        "\n",
        "predictions = (model2.predict(X_test) > 0.5).astype(int)\n",
        "for i in range(10):\n",
        "\tprint('%s => %d (expected %d)' % (X_test[i].tolist(), predictions[i], y_test[i]))\n",
        "\n",
        "aciertos = 0\n",
        "fallos = 0\n",
        "total = 0\n",
        "\n",
        "for i in range(len(predictions)):\n",
        "  if(predictions[i] == y_test[i]):\n",
        "    aciertos = aciertos+1\n",
        "  else:\n",
        "    fallos = fallos+1\n",
        "  total = total+1\n",
        "\n",
        "print(\"----------------------------------------------\")\n",
        "print('Aciertos: ' + str(aciertos))\n",
        "print('Fallos: ' + str(fallos))\n",
        "print('Precision: ' + str(aciertos/total))"
      ],
      "metadata": {
        "colab": {
          "base_uri": "https://localhost:8080/"
        },
        "id": "DRPpwU0jL-Mu",
        "outputId": "4c676c28-3711-4238-fcc6-26f00de7b5d8"
      },
      "execution_count": 73,
      "outputs": [
        {
          "output_type": "stream",
          "name": "stdout",
          "text": [
            "[142.942988016146, 16.9892002308419, 24.843, 22.20632, 21.65898, 20.77094, 20.22223, 5183.0, 301.0, 3.0, 83.0, 1.07503642953953e+19, 0.8033257, 9548.0, 57785.0, 989.0] => 1 (expected 1)\n",
            "[135.263303698825, 28.9744014344227, 21.49, 21.10227, 20.61004, 20.54189, 20.29885, 4335.0, 301.0, 5.0, 170.0, 6.508955011124582e+18, 0.9349682, 5781.0, 56337.0, 464.0] => 1 (expected 0)\n",
            "[201.572312709273, 33.8946826937633, 25.02784, 22.32312, 20.4404, 19.53025, 19.03813, 4576.0, 301.0, 4.0, 540.0, 4.483425602603604e+18, 0.4897552, 3982.0, 55332.0, 335.0] => 1 (expected 1)\n",
            "[84.0635051413466, -0.749742975413596, 22.50879, 21.14568, 20.36354, 20.07761, 19.89473, 4158.0, 301.0, 2.0, 67.0, 2.332865764035422e+18, 2.032836, 2072.0, 53430.0, 4.0] => 1 (expected 0)\n",
            "[31.1225755127823, -3.84897972198744, 23.44521, 22.20478, 21.38653, 21.37965, 20.27652, 7865.0, 301.0, 5.0, 122.0, 1.0501468946687089e+19, 0.736698, 9327.0, 57723.0, 729.0] => 1 (expected 1)\n",
            "[167.318475165197, 37.9585887385657, 24.16212, 22.77856, 20.92657, 19.75272, 19.29668, 3900.0, 301.0, 2.0, 282.0, 5.20288444448744e+18, 0.6229256, 4621.0, 55649.0, 367.0] => 1 (expected 1)\n",
            "[227.110429698936, 40.467789122811, 25.57664, 22.03811, 20.22528, 19.1288, 18.68789, 2964.0, 301.0, 1.0, 527.0, 6.816236071334204e+18, 0.5581567, 6054.0, 56089.0, 138.0] => 1 (expected 1)\n",
            "[246.157536710827, 38.9306396165688, 24.15132, 20.78694, 19.08534, 18.4451, 18.05503, 3225.0, 301.0, 2.0, 238.0, 5.843589393504557e+18, 0.3996373, 5190.0, 56077.0, 614.0] => 1 (expected 1)\n",
            "[160.947908048379, 47.7342630353669, 25.68674, 21.54552, 19.89434, 19.12761, 18.7608, 2964.0, 301.0, 4.0, 215.0, 7.544783200801021e+18, 0.4752748, 6701.0, 56367.0, 465.0] => 1 (expected 1)\n",
            "[33.6536785039676, 28.8319360557876, 22.82358, 21.26405, 20.65611, 19.78551, 19.67262, 7941.0, 301.0, 3.0, 101.0, 7.061904081456224e+18, 0.6603321, 6272.0, 56325.0, 945.0] => 1 (expected 1)\n",
            "----------------------------------------------\n",
            "Aciertos: 18786\n",
            "Fallos: 6306\n",
            "Precision: 0.7486848397895743\n"
          ]
        }
      ]
    },
    {
      "cell_type": "markdown",
      "source": [
        "Esta segunda arquitectura de red neuronal con solo una capa oculta, arrojó los mismos resultados que la primera arquitectura en cuanto al testing, pero fue menos preciso al momento de entrenarse, con un 74%."
      ],
      "metadata": {
        "id": "naEe8ET5NI_R"
      }
    },
    {
      "cell_type": "markdown",
      "source": [
        "#### Tercera Red Neuronal"
      ],
      "metadata": {
        "id": "139VNOllOPXF"
      }
    },
    {
      "cell_type": "markdown",
      "source": [
        "La tercera red neuronal se conforma de:\n",
        "\n",
        "\n",
        "*   **Capa de entrada:** 16 neuronas\n",
        "*   Capa oculta I: 20 neuronas\n",
        "*   Capa oculta II: 18 neuronas\n",
        "*   Capa oculta III: 14 neuronas\n",
        "*   Capa oculta IV: 12 neuronas\n",
        "*   Capa oculta V: 8 neuronas\n",
        "*   Capa oculta VI: 6 neuronas\n",
        "*   Capa oculta VII: 4 neuronas\n",
        "*   Capa oculta VIII: 2 neuronas\n",
        "*   **Capa de salida:** 1 neurona"
      ],
      "metadata": {
        "id": "c15eAiVFNwSW"
      }
    },
    {
      "cell_type": "code",
      "source": [
        "model3 = Sequential()\n",
        "model3.add(Dense(20, input_dim=16, activation='relu'))\n",
        "model3.add(Dense(18, activation='relu'))\n",
        "model3.add(Dense(14, activation='relu'))\n",
        "model3.add(Dense(12, activation='relu'))\n",
        "model3.add(Dense(8, activation='relu'))\n",
        "model3.add(Dense(6, activation='relu'))\n",
        "model3.add(Dense(4, activation='relu'))\n",
        "model3.add(Dense(2, activation='relu'))\n",
        "model3.add(Dense(1, activation='sigmoid'))\n",
        "\n",
        "opt = SGD(learning_rate=0.01, momentum=0.9)\n",
        "model3.compile(loss='binary_crossentropy', optimizer=opt, metrics=['accuracy'])\n",
        "model3.fit(X, y, epochs=5, batch_size=10)\n",
        "\n",
        "_, accuracy = model3.evaluate(X, y)\n",
        "print('Accuracy: %.2f' % (accuracy*100))"
      ],
      "metadata": {
        "colab": {
          "base_uri": "https://localhost:8080/"
        },
        "id": "vKdoSOzLOVgN",
        "outputId": "fbcc698d-e616-4219-97f6-6c0966f49a64"
      },
      "execution_count": 78,
      "outputs": [
        {
          "output_type": "stream",
          "name": "stdout",
          "text": [
            "Epoch 1/5\n",
            "2510/2510 [==============================] - 6s 2ms/step - loss: nan - accuracy: 0.2513\n",
            "Epoch 2/5\n",
            "2510/2510 [==============================] - 4s 2ms/step - loss: nan - accuracy: 0.2513\n",
            "Epoch 3/5\n",
            "2510/2510 [==============================] - 4s 2ms/step - loss: nan - accuracy: 0.2513\n",
            "Epoch 4/5\n",
            "2510/2510 [==============================] - 4s 2ms/step - loss: nan - accuracy: 0.2513\n",
            "Epoch 5/5\n",
            "2510/2510 [==============================] - 4s 2ms/step - loss: nan - accuracy: 0.2513\n",
            "785/785 [==============================] - 1s 2ms/step - loss: nan - accuracy: 0.2513\n",
            "Accuracy: 25.13\n"
          ]
        }
      ]
    },
    {
      "cell_type": "code",
      "source": [
        "array = testing.values\n",
        "X_test = array[:,0:16]\n",
        "y_test = array[:,16]\n",
        "\n",
        "predictions = (model3.predict(X_test) > 0.5).astype(int)\n",
        "for i in range(10):\n",
        "\tprint('%s => %d (expected %d)' % (X_test[i].tolist(), predictions[i], y_test[i]))\n",
        "\n",
        "aciertos = 0\n",
        "fallos = 0\n",
        "total = 0\n",
        "\n",
        "for i in range(len(predictions)):\n",
        "  if(predictions[i] == y_test[i]):\n",
        "    aciertos = aciertos+1\n",
        "  else:\n",
        "    fallos = fallos+1\n",
        "  total = total+1\n",
        "\n",
        "print(\"----------------------------------------------\")\n",
        "print('Aciertos: ' + str(aciertos))\n",
        "print('Fallos: ' + str(fallos))\n",
        "print('Precision: ' + str(aciertos/total))"
      ],
      "metadata": {
        "colab": {
          "base_uri": "https://localhost:8080/"
        },
        "id": "7A1Kd2kLPbU1",
        "outputId": "fb260b4b-8d88-41e5-f5a3-616c03aa8c55"
      },
      "execution_count": 79,
      "outputs": [
        {
          "output_type": "stream",
          "name": "stdout",
          "text": [
            "[142.942988016146, 16.9892002308419, 24.843, 22.20632, 21.65898, 20.77094, 20.22223, 5183.0, 301.0, 3.0, 83.0, 1.07503642953953e+19, 0.8033257, 9548.0, 57785.0, 989.0] => 0 (expected 1)\n",
            "[135.263303698825, 28.9744014344227, 21.49, 21.10227, 20.61004, 20.54189, 20.29885, 4335.0, 301.0, 5.0, 170.0, 6.508955011124582e+18, 0.9349682, 5781.0, 56337.0, 464.0] => 0 (expected 0)\n",
            "[201.572312709273, 33.8946826937633, 25.02784, 22.32312, 20.4404, 19.53025, 19.03813, 4576.0, 301.0, 4.0, 540.0, 4.483425602603604e+18, 0.4897552, 3982.0, 55332.0, 335.0] => 0 (expected 1)\n",
            "[84.0635051413466, -0.749742975413596, 22.50879, 21.14568, 20.36354, 20.07761, 19.89473, 4158.0, 301.0, 2.0, 67.0, 2.332865764035422e+18, 2.032836, 2072.0, 53430.0, 4.0] => 0 (expected 0)\n",
            "[31.1225755127823, -3.84897972198744, 23.44521, 22.20478, 21.38653, 21.37965, 20.27652, 7865.0, 301.0, 5.0, 122.0, 1.0501468946687089e+19, 0.736698, 9327.0, 57723.0, 729.0] => 0 (expected 1)\n",
            "[167.318475165197, 37.9585887385657, 24.16212, 22.77856, 20.92657, 19.75272, 19.29668, 3900.0, 301.0, 2.0, 282.0, 5.20288444448744e+18, 0.6229256, 4621.0, 55649.0, 367.0] => 0 (expected 1)\n",
            "[227.110429698936, 40.467789122811, 25.57664, 22.03811, 20.22528, 19.1288, 18.68789, 2964.0, 301.0, 1.0, 527.0, 6.816236071334204e+18, 0.5581567, 6054.0, 56089.0, 138.0] => 0 (expected 1)\n",
            "[246.157536710827, 38.9306396165688, 24.15132, 20.78694, 19.08534, 18.4451, 18.05503, 3225.0, 301.0, 2.0, 238.0, 5.843589393504557e+18, 0.3996373, 5190.0, 56077.0, 614.0] => 0 (expected 1)\n",
            "[160.947908048379, 47.7342630353669, 25.68674, 21.54552, 19.89434, 19.12761, 18.7608, 2964.0, 301.0, 4.0, 215.0, 7.544783200801021e+18, 0.4752748, 6701.0, 56367.0, 465.0] => 0 (expected 1)\n",
            "[33.6536785039676, 28.8319360557876, 22.82358, 21.26405, 20.65611, 19.78551, 19.67262, 7941.0, 301.0, 3.0, 101.0, 7.061904081456224e+18, 0.6603321, 6272.0, 56325.0, 945.0] => 0 (expected 1)\n",
            "----------------------------------------------\n",
            "Aciertos: 6306\n",
            "Fallos: 18786\n",
            "Precision: 0.25131516021042566\n"
          ]
        }
      ]
    },
    {
      "cell_type": "markdown",
      "source": [
        "Esta última arquitectura, con mayor cantidad de capas ocultas y con poca cantidad de épocas, arroja resultados bastante malos en comparación con el resto de arquitecturas de red neuronal. Obtiene solo un 25% de precisión en testing y training."
      ],
      "metadata": {
        "id": "VrIQl27XPwfm"
      }
    },
    {
      "cell_type": "markdown",
      "source": [
        "#### Mejor modelo"
      ],
      "metadata": {
        "id": "nizNdW-VQEz-"
      }
    },
    {
      "cell_type": "markdown",
      "source": [
        "La primera arquitectura de red neuronal fue la que obtuvo mejores resultados, pero no por mucho en comparación con la segunda arquitectura y mucho mejor que la tercera red neuronal. Como ya se ha explicado, elegir la arquitectura de una red neuronal es un proceso de prueba y error, depende del dataset, su naturaleza, el tamaño de la capa de entrada y las funciones de activación. En este caso, la función de activación que se usó para capas ocultas y la capa de salida fue la recomendada por los tutoriales vistos en clase, todas las arquitecturas utilizaron las mismas funciones de activación. Sin embargo, parece ser que una arquitectura multicapa, que vaya gradualmente disminuyendo la cantidad de neuronas por capa oculta conforme se acerca a la capa de salida, se adapta mejor al dataset. Otras pruebas que se pudieron considerar es variar los parámetros de *epochs*, *batch*, *learning_rate* y *momentum*, pero no es necesario que la red tome muchísimo tiempo en entrenarse para poder hacer comparaciones entre arquitecturas."
      ],
      "metadata": {
        "id": "vXYYxuNRQJb-"
      }
    },
    {
      "cell_type": "markdown",
      "source": [
        "### Resultados Generales"
      ],
      "metadata": {
        "id": "q-WJlWHCqZdY"
      }
    },
    {
      "cell_type": "markdown",
      "source": [
        "Pienso que no tiene sentido comparar los resultados de esta tarea con el de la tarea 2, ya que los datasets son diferentes, su naturaleza y dimensionalidad es distinta. Sin embargo, ambos se trataron de un problema de clasificación binaria y con cantidad similar de registros. Los algoritmos utilizados en la tarea 2 fueron claramente más precisos para ese dataset en comparación con la precisión lograda para este dataset y utizando redes neuronales. Es posible que un algoritmo se adecúe de mejor forma para un dataset que para otro, sería necesario hacer la comparación de utilizar ambos algoritmos para ambos datasets y comparar resultados. Las redes neuronales tienen la pequeña desventaja que su arquitectura es muy variable, y que cambios en la cantidad de capas y neuronas puede afectar significativamente el desempeño de una red, tal como se vio en las primeras dos arquitecturas contra la tercera, y se vuelve todavía más complejo cuando se empieza a ajustar la cantidad de épocas y batch al momento de entrenar. Tendría que probarse con una cantidad muy alta y empezar a ver dónde el algoritmo empieza a converger, aunque para eso se necesite probablemente de gran capacidad computacional para no tener que esperar una gran cantidad de tiempo para obtener resultados. En este caso, pienso que una red neuronal puede ser útil si, un experimento por ejemplo, tiene el tiempo y la capacidad computacional de poder explotar todo el potencial de las redes neuronales, de lo contrario, otras alternativas pueden intentarse para lograr hcaer una clasifiación binaria decente con buenos resultados, como los que arrojó los bosques aleatorios en la tarea anterior."
      ],
      "metadata": {
        "id": "mofpLcDnq5Pa"
      }
    }
  ],
  "metadata": {
    "colab": {
      "name": "Tarea_3.ipynb",
      "provenance": []
    },
    "interpreter": {
      "hash": "98b9776bb1c906ffea5885633daef92fdfff9bdc53a036d784e355cfb10fec4f"
    },
    "kernelspec": {
      "display_name": "Python 3.9.6 64-bit",
      "language": "python",
      "name": "python3"
    },
    "language_info": {
      "codemirror_mode": {
        "name": "ipython",
        "version": 3
      },
      "file_extension": ".py",
      "mimetype": "text/x-python",
      "name": "python",
      "nbconvert_exporter": "python",
      "pygments_lexer": "ipython3",
      "version": "3.9.6"
    }
  },
  "nbformat": 4,
  "nbformat_minor": 0
}